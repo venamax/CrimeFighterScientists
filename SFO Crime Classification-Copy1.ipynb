{
 "cells": [
  {
   "cell_type": "code",
   "execution_count": 1,
   "metadata": {
    "collapsed": true
   },
   "outputs": [],
   "source": [
    "%matplotlib inline\n",
    "# General libraries.\n",
    "import re\n",
    "import numpy as np\n",
    "import matplotlib.pyplot as plt\n",
    "import csv\n",
    "\n",
    "# SK-learn libraries for learning.\n",
    "from sklearn.pipeline import Pipeline\n",
    "from sklearn.neighbors import KNeighborsClassifier\n",
    "from sklearn.linear_model import LogisticRegression\n",
    "from sklearn.naive_bayes import BernoulliNB\n",
    "from sklearn.naive_bayes import MultinomialNB\n",
    "from sklearn.grid_search import GridSearchCV\n",
    "\n",
    "# SK-learn libraries for evaluation.\n",
    "from sklearn.metrics import confusion_matrix\n",
    "from sklearn import metrics\n",
    "from sklearn.metrics import classification_report\n",
    "from sklearn.feature_extraction.text import CountVectorizer \n",
    "\n"
   ]
  },
  {
   "cell_type": "code",
   "execution_count": 2,
   "metadata": {
    "collapsed": false
   },
   "outputs": [
    {
     "name": "stdout",
     "output_type": "stream",
     "text": [
      "['Dates', 'Category', 'Descript', 'DayOfWeek', 'PdDistrict', 'Resolution', 'Address', 'X', 'Y']\n",
      "['2015-05-13 23:53:00', 'WARRANTS', 'WARRANT ARREST', 'Wednesday', 'NORTHERN', 'ARREST, BOOKED', 'OAK ST / LAGUNA ST', '-122.425891675136', '37.7745985956747']\n",
      "['Id', 'Dates', 'DayOfWeek', 'PdDistrict', 'Address', 'X', 'Y']\n",
      "['0', '2015-05-10 23:59:00', 'Sunday', 'BAYVIEW', '2000 Block of THOMAS AV', '-122.39958770418998', '37.7350510103906']\n",
      "['Id', 'ARSON', 'ASSAULT', 'BAD CHECKS', 'BRIBERY', 'BURGLARY', 'DISORDERLY CONDUCT', 'DRIVING UNDER THE INFLUENCE', 'DRUG/NARCOTIC', 'DRUNKENNESS', 'EMBEZZLEMENT', 'EXTORTION', 'FAMILY OFFENSES', 'FORGERY/COUNTERFEITING', 'FRAUD', 'GAMBLING', 'KIDNAPPING', 'LARCENY/THEFT', 'LIQUOR LAWS', 'LOITERING', 'MISSING PERSON', 'NON-CRIMINAL', 'OTHER OFFENSES', 'PORNOGRAPHY/OBSCENE MAT', 'PROSTITUTION', 'RECOVERED VEHICLE', 'ROBBERY', 'RUNAWAY', 'SECONDARY CODES', 'SEX OFFENSES FORCIBLE', 'SEX OFFENSES NON FORCIBLE', 'STOLEN PROPERTY', 'SUICIDE', 'SUSPICIOUS OCC', 'TREA', 'TRESPASS', 'VANDALISM', 'VEHICLE THEFT', 'WARRANTS', 'WEAPON LAWS']\n",
      "['0', '0', '0', '0', '0', '0', '0', '0', '0', '0', '0', '0', '0', '0', '0', '0', '0', '0', '0', '0', '0', '0', '0', '0', '0', '0', '0', '0', '0', '0', '0', '0', '0', '0', '0', '0', '0', '0', '1', '0']\n"
     ]
    }
   ],
   "source": [
    "### Load data files\n",
    "\n",
    "with open('train.csv', 'rb') as f:\n",
    "    train = list(csv.reader(f))\n",
    "print train[0]\n",
    "print train[1]\n",
    "\n",
    "with open('test.csv', 'rb') as f:\n",
    "    test = list(csv.reader(f))\n",
    "print test[0]\n",
    "print test[1]\n",
    "\n",
    "with open('sampleSubmission.csv', 'rb') as f:\n",
    "    sampleSubmission = list(csv.reader(f))\n",
    "print sampleSubmission[0]\n",
    "print sampleSubmission[1]\n",
    "\n"
   ]
  },
  {
   "cell_type": "code",
   "execution_count": 9,
   "metadata": {
    "collapsed": false
   },
   "outputs": [],
   "source": [
    "### This function extracts the selected features from the data files\n",
    "def features(data, date_pos, dayofweek_pos, pddistric_pos, address_pos):\n",
    "    \n",
    "    year, month,day, hour, minutes, dayofweek, districts, streets,  x, y, labels = [],[],[],[],[],[],[],[],[],[],[]\n",
    "\n",
    "    for i in range(1,len(data)):\n",
    "        temp_data = []\n",
    "        temp_data = data[i]\n",
    "        year.append(temp_data[date_pos].split()[0].split(\"-\")[0])\n",
    "        month.append(temp_data[date_pos].split()[0].split(\"-\")[1])\n",
    "        day.append(temp_data[date_pos].split()[0].split(\"-\")[2])\n",
    "        hour.append(temp_data[date_pos].split()[1].split(\":\")[0])\n",
    "        minutes.append(temp_data[date_pos].split()[1].split(\":\")[1])   \n",
    "        dayofweek.append(temp_data[dayofweek_pos])\n",
    "        districts.append(temp_data[pddistric_pos])\n",
    "        streets.append(temp_data[address_pos])\n",
    "\n",
    "    features = [year, month, day, hour, minutes, dayofweek, districts, streets]\n",
    "    return features\n",
    "\n",
    "\n",
    "##labels.append(temp_data[1])"
   ]
  },
  {
   "cell_type": "code",
   "execution_count": 10,
   "metadata": {
    "collapsed": false
   },
   "outputs": [
    {
     "name": "stdout",
     "output_type": "stream",
     "text": [
      "2015\n",
      "05\n",
      "13\n",
      "23\n",
      "53\n",
      "Wednesday\n",
      "NORTHERN\n",
      "OAK ST / LAGUNA ST\n"
     ]
    }
   ],
   "source": [
    "train_features = features(train,0, 3, 4,6)\n",
    "for i in range (len(train_features)):\n",
    "    print train_features[i][0]"
   ]
  },
  {
   "cell_type": "code",
   "execution_count": 11,
   "metadata": {
    "collapsed": false
   },
   "outputs": [
    {
     "name": "stdout",
     "output_type": "stream",
     "text": [
      "2015\n",
      "05\n",
      "10\n",
      "23\n",
      "59\n",
      "Sunday\n",
      "BAYVIEW\n",
      "2000 Block of THOMAS AV\n"
     ]
    }
   ],
   "source": [
    "test_features = features(test,1,2,3,4)\n",
    "for i in range (len(test_features)):\n",
    "    print test_features[i][0]"
   ]
  },
  {
   "cell_type": "code",
   "execution_count": 29,
   "metadata": {
    "collapsed": false
   },
   "outputs": [],
   "source": [
    "## This function vectorizes the features on both the train and the test data\n",
    "def vector_features_lists(train_features, test_features):\n",
    "    vectorizer = CountVectorizer(min_df=1)\n",
    "    train_vector_features, test_vector_features, feature_labels = [], [], []\n",
    "    for i in range (len(train_features)):\n",
    "        train_vector_features.append(vectorizer.fit_transform(train_features[i]))\n",
    "        test_vector_features.append(vectorizer.transform(test_features[i]))\n",
    "        feature_labels.append(vectorizer.get_feature_names())\n",
    "    vector_features_lists = [train_vector_features, test_vector_features, feature_labels]\n",
    "    return vector_features_lists\n",
    "\n",
    "\n",
    "\n",
    "\n"
   ]
  },
  {
   "cell_type": "code",
   "execution_count": 30,
   "metadata": {
    "collapsed": false
   },
   "outputs": [],
   "source": [
    "lists = vector_features_lists(train_features, test_features)\n",
    "\n",
    "\n"
   ]
  },
  {
   "cell_type": "code",
   "execution_count": 31,
   "metadata": {
    "collapsed": true
   },
   "outputs": [],
   "source": [
    "train_lists = lists[0] \n",
    "test_lists = lists[1]\n",
    "feature_labels = lists[2]"
   ]
  },
  {
   "cell_type": "code",
   "execution_count": 41,
   "metadata": {
    "collapsed": false
   },
   "outputs": [],
   "source": [
    "### This function converts the vectorized features into an array\n",
    "def vector_features_array(vector_features_list):\n",
    "    for i in range (len(vector_features_list)):\n",
    "        array = vector_features_list[i].toarray()\n",
    "        if i == 0:\n",
    "            vector_features_array = array\n",
    "        else:\n",
    "            vector_features_array = np.concatenate([vector_features_array, array], axis = -1)\n",
    "    \n",
    "    return vector_features_array\n"
   ]
  },
  {
   "cell_type": "code",
   "execution_count": 42,
   "metadata": {
    "collapsed": false
   },
   "outputs": [],
   "source": [
    "X_data = vector_features_array(train_lists)\n",
    "X_test = vector_features_array(test_lists)"
   ]
  },
  {
   "cell_type": "code",
   "execution_count": 43,
   "metadata": {
    "collapsed": false
   },
   "outputs": [
    {
     "name": "stdout",
     "output_type": "stream",
     "text": [
      "8\n",
      "[[u'2003', u'2004', u'2005', u'2006', u'2007', u'2008', u'2009', u'2010', u'2011', u'2012', u'2013', u'2014', u'2015'], [u'01', u'02', u'03', u'04', u'05', u'06', u'07', u'08', u'09', u'10', u'11', u'12'], [u'01', u'02', u'03', u'04', u'05', u'06', u'07', u'08', u'09', u'10', u'11', u'12', u'13', u'14', u'15', u'16', u'17', u'18', u'19', u'20', u'21', u'22', u'23', u'24', u'25', u'26', u'27', u'28', u'29', u'30', u'31'], [u'00', u'01', u'02', u'03', u'04', u'05', u'06', u'07', u'08', u'09', u'10', u'11', u'12', u'13', u'14', u'15', u'16', u'17', u'18', u'19', u'20', u'21', u'22', u'23'], [u'00', u'01', u'02', u'03', u'04', u'05', u'06', u'07', u'08', u'09', u'10', u'11', u'12', u'13', u'14', u'15', u'16', u'17', u'18', u'19', u'20', u'21', u'22', u'23', u'24', u'25', u'26', u'27', u'28', u'29', u'30', u'31', u'32', u'33', u'34', u'35', u'36', u'37', u'38', u'39', u'40', u'41', u'42', u'43', u'44', u'45', u'46', u'47', u'48', u'49', u'50', u'51', u'52', u'53', u'54', u'55', u'56', u'57', u'58', u'59'], [u'friday', u'monday', u'saturday', u'sunday', u'thursday', u'tuesday', u'wednesday'], [u'bayview', u'central', u'ingleside', u'mission', u'northern', u'park', u'richmond', u'southern', u'taraval', u'tenderloin'], [u'100', u'1000', u'101', u'10th', u'1100', u'11th', u'1200', u'12th', u'1300', u'13th', u'1400', u'14th', u'1500', u'15th', u'1600', u'16th', u'1700', u'17th', u'1800', u'18th', u'1900', u'19th', u'1st', u'200', u'2000', u'20th', u'2100', u'21st', u'2200', u'22nd', u'2300', u'23rd', u'2400', u'24th', u'2500', u'25th', u'2600', u'26th', u'2700', u'27th', u'280', u'2800', u'28th', u'2900', u'29th', u'2nd', u'300', u'3000', u'30th', u'3100', u'31st', u'3200', u'32nd', u'3300', u'33rd', u'3400', u'34th', u'3500', u'35th', u'3600', u'36th', u'3700', u'37th', u'3800', u'38th', u'3900', u'39th', u'3rd', u'400', u'4000', u'40th', u'4100', u'41st', u'4200', u'42nd', u'4300', u'43rd', u'4400', u'44th', u'4500', u'45th', u'4600', u'46th', u'4700', u'47th', u'4800', u'48th', u'4900', u'4th', u'500', u'5000', u'5100', u'5200', u'5300', u'5400', u'5500', u'5600', u'5700', u'5800', u'5900', u'5th', u'5thstnorth', u'600', u'6000', u'6100', u'6200', u'6300', u'6400', u'6500', u'6600', u'6700', u'6800', u'6900', u'6th', u'700', u'7000', u'7100', u'7200', u'7300', u'7400', u'7500', u'7600', u'7700', u'7800', u'7900', u'7th', u'7thstnorth', u'80', u'800', u'8000', u'8100', u'8200', u'8300', u'8th', u'900', u'9th', u'abbey', u'acadia', u'acevedo', u'acton', u'ada', u'adair', u'adams', u'addison', u'adler', u'admiral', u'aerial', u'agnon', u'agua', u'ahern', u'al', u'alabama', u'aladdin', u'alameda', u'alana', u'albatross', u'alberta', u'albion', u'alder', u'alemany', u'alert', u'aleso', u'alhambra', u'alice', u'allen', u'allison', u'allston', u'alma', u'almaden', u'aloha', u'alpha', u'alpine', u'alta', u'altamar', u'alto', u'alton', u'alvarado', u'alviso', u'amador', u'amazon', u'amber', u'ambrose', u'ames', u'amethyst', u'amherst', u'ana', u'anderson', u'andover', u'andreas', u'ankeny', u'annapolis', u'annie', u'anselmo', u'anson', u'anthony', u'antonio', u'anza', u'anzavista', u'apollo', u'apparel', u'appleton', u'approach', u'aptos', u'aquavista', u'arago', u'arballo', u'arbol', u'arbor', u'arch', u'arco', u'ardath', u'ardenwood', u'arelious', u'arellano', u'argent', u'argonaut', u'arguello', u'arkansas', u'arleta', u'arlington', u'armory', u'armstrong', u'arnold', u'arroyo', u'arthur', u'ash', u'ashbury', u'ashton', u'aspen', u'atalaya', u'athens', u'atoll', u'auburn', u'august', u'augusta', u'austin', u'av', u'avalon', u'avenue', u'avery', u'avila', u'aztec', u'bache', u'bacon', u'baden', u'badger', u'baker', u'balance', u'balboa', u'balceta', u'baldwin', u'balhi', u'balmy', u'baltimore', u'banbury', u'bancroft', u'banks', u'bannam', u'bannecker', u'bannock', u'barbara', u'barcelona', u'barneveld', u'bartlett', u'bartol', u'bass', u'battery', u'bautista', u'bay', u'bayside', u'baysidevillage', u'bayview', u'baywood', u'bdry', u'beach', u'beachmont', u'beacon', u'beale', u'beatrice', u'beaumont', u'beaver', u'beckett', u'beeman', u'behr', u'beideman', u'belcher', u'belden', u'belgrave', u'bell', u'bella', u'bellair', u'bellavista', u'belle', u'bellevue', u'belmont', u'belvedere', u'bemis', u'benito', u'bennett', u'bennington', u'benton', u'bepler', u'bergen', u'berkeley', u'berkshire', u'bernal', u'bernalhts', u'bernard', u'bernice', u'berry', u'bertha', u'bertieminor', u'bertita', u'berwick', u'bessie', u'beulah', u'beverly', u'bierce', u'birch', u'birchwood', u'bird', u'bishop', u'bl', u'blackstone', u'blair', u'blake', u'blanche', u'blanken', u'block', u'bluxome', u'blvd', u'blythdale', u'boardman', u'bob', u'bocana', u'bonifacio', u'bonita', u'bonview', u'boom', u'borica', u'bosworth', u'boutwell', u'bowdoin', u'bowling', u'bowlinggreen', u'bowman', u'boylston', u'bradford', u'brady', u'brannan', u'brant', u'brazil', u'breen', u'brenham', u'brentwood', u'bretharte', u'brewster', u'bridge', u'bridgeview', u'bright', u'brighton', u'britton', u'broad', u'broadmoor', u'broadway', u'broderick', u'bromley', u'brompton', u'bronte', u'brook', u'brookdale', u'brooklyn', u'brosnan', u'brotherhood', u'bruce', u'brumiss', u'bruno', u'brunswick', u'brush', u'brussels', u'bryant', u'bucareli', u'buchanan', u'buckingham', u'buena', u'buenavistaeast', u'buenavistawest', u'bufano', u'burke', u'burlwood', u'burnett', u'burnham', u'burns', u'burnside', u'burr', u'burritt', u'burrows', u'bush', u'butte', u'byron', u'byxbee', u'cabrillo', u'cadell', u'caine', u'caire', u'caledonia', u'calgary', u'calhoun', u'california', u'cambon', u'cambridge', u'camellia', u'cameo', u'cameron', u'camino', u'camp', u'campbell', u'campton', u'canyon', u'capistrano', u'capitol', u'capp', u'capra', u'card', u'cardenas', u'cargo', u'carl', u'carlos', u'carmel', u'carmelita', u'carnelian', u'carolina', u'carpenter', u'carr', u'carrie', u'carrizal', u'carroll', u'carson', u'carter', u'carthy', u'carver', u'casa', u'cascade', u'caselli', u'cashmere', u'casitas', u'cassandra', u'castelo', u'castenada', u'castillo', u'castle', u'castlemanor', u'castro', u'cayuga', u'cecilia', u'cedar', u'cedro', u'central', u'century', u'ceres', u'cerritos', u'cervantes', u'cesar', u'chabot', u'chain', u'chainoflakes', u'chancery', u'channel', u'chapman', u'charles', u'charlton', u'charter', u'charteroak', u'chase', u'chatham', u'chattanooga', u'chaves', u'chavez', u'chenery', u'cherry', u'chesley', u'chester', u'chestnut', u'chicago', u'child', u'chilton', u'chinabasin', u'christmas', u'christmastreept', u'christopher', u'chula', u'chumasero', u'church', u'cielito', u'circular', u'cityview', u'clairview', u'clara', u'claremont', u'clarence', u'clarendon', u'clarion', u'claude', u'clay', u'clayton', u'clearfield', u'clearview', u'cleary', u'clement', u'clementina', u'cleo', u'cleorand', u'cleveland', u'cliff', u'clifford', u'clinton', u'clintonpark', u'clipper', u'clover', u'club', u'clyde', u'codman', u'cohen', u'colby', u'cole', u'coleridge', u'colin', u'colinpkellyjr', u'college', u'collingwood', u'collins', u'colon', u'colonial', u'colton', u'columbia', u'columbiasquare', u'columbus', u'colusa', u'commer', u'commercial', u'commonwealth', u'concord', u'congdon', u'congo', u'conkling', u'connecticut', u'conrad', u'conservatory', u'constanso', u'conte', u'converse', u'cook', u'cooper', u'cora', u'coral', u'corbett', u'corbin', u'cordelia', u'cordova', u'cornwall', u'corona', u'cortes', u'cortland', u'corwin', u'cosmo', u'coso', u'costa', u'cottage', u'cotter', u'country', u'countryclub', u'coventry', u'cr', u'cragmont', u'crags', u'crane', u'cranleigh', u'craut', u'creek', u'crescent', u'crescio', u'crespi', u'cresta', u'crestavista', u'crestlake', u'crestline', u'crestmont', u'crisp', u'cross', u'crossover', u'crown', u'cruz', u'crystal', u'ct', u'cuesta', u'culebra', u'cumberland', u'cunningham', u'curtis', u'cushman', u'custer', u'cutler', u'cuvier', u'cypress', u'cyril', u'cyrus', u'daggett', u'dakota', u'dalewood', u'daniel', u'danielburnham', u'danton', u'danvers', u'darien', u'darrell', u'dartmouth', u'dashiell', u'davidson', u'davis', u'dawnview', u'dawson', u'day', u'de', u'dearborn', u'deboom', u'decatur', u'decker', u'dedman', u'deforest', u'deharo', u'dehon', u'del', u'delancey', u'delano', u'delgado', u'dellbrook', u'delmar', u'delmonte', u'delong', u'delsur', u'delta', u'delvale', u'deming', u'demontfort', u'denslowe', u'derby', u'desmond', u'desoto', u'detroit', u'devonshire', u'dewey', u'dewolf', u'diamond', u'diamondheights', u'diana', u'diaz', u'dichiera', u'diego', u'digby', u'divisadero', u'division', u'dodge', u'dolores', u'dolphin', u'donahue', u'donner', u'dorado', u'dorantes', u'dorcas', u'dorchester', u'dore', u'doric', u'dorland', u'dorman', u'dormitory', u'doublerock', u'douglass', u'dow', u'downey', u'dr', u'drake', u'drumm', u'dublin', u'duboce', u'dukes', u'duncan', u'duncombe', u'dunnes', u'dunshee', u'dunsmuir', u'dwight', u'dyke', u'eagle', u'earl', u'east', u'eastman', u'eastwood', u'eaton', u'ecker', u'eddy', u'edgar', u'edgehill', u'edgewood', u'edinburgh', u'edith', u'edna', u'edward', u'egbert', u'el', u'elcaminodelmar', u'elgin', u'elginpark', u'elim', u'elizabeth', u'elk', u'ellert', u'ellington', u'elliot', u'ellis', u'ellsworth', u'elm', u'elmhurst', u'elmira', u'elmirasol', u'elmo', u'elmwood', u'elplazuela', u'elsereno', u'elsie', u'elverano', u'elwood', u'embarcadero', u'embarcaderonorth', u'embarcaderosouth', u'emerson', u'emery', u'emmett', u'encanto', u'encline', u'enterprise', u'entrada', u'erie', u'ervine', u'escolta', u'escondido', u'esmeralda', u'espanola', u'esquina', u'essex', u'estero', u'eucalyptus', u'euclid', u'eugenia', u'eureka', u'evans', u'evelyn', u'everglade', u'everson', u'ewing', u'ex', u'excelsior', u'executive', u'executivepark', u'exeter', u'expwy', u'fair', u'fairfax', u'fairfield', u'fairmount', u'fairoaks', u'faith', u'fallon', u'falmouth', u'fanning', u'farallones', u'farnsworth', u'farnum', u'farragut', u'farview', u'faxon', u'fe', u'federal', u'felipe', u'felix', u'fell', u'fella', u'felton', u'ferlinghetti', u'fern', u'fernando', u'fernwood', u'fielding', u'filbert', u'fillmore', u'fitch', u'fitzgerald', u'flint', u'flood', u'flora', u'florence', u'florentine', u'florida', u'flournoy', u'flower', u'foerster', u'folsom', u'font', u'fontinella', u'foote', u'ford', u'forest', u'forestknolls', u'forestside', u'forestview', u'fortuna', u'fountain', u'fowler', u'france', u'francis', u'francisco', u'francois', u'franconia', u'frank', u'franklin', u'fratessa', u'frederick', u'fredson', u'freelon', u'freeway', u'fremont', u'fresno', u'friendship', u'front', u'fuente', u'fulton', u'funston', u'gabilan', u'gabriel', u'gaiser', u'galewood', u'galilee', u'galindo', u'gallagher', u'galvez', u'gambier', u'garces', u'garcia', u'garden', u'gardenside', u'garfield', u'garlington', u'garrison', u'gate', u'gates', u'gateview', u'gaven', u'gaviota', u'geary', u'gellert', u'genebern', u'geneva', u'gennesee', u'genoa', u'george', u'gerke', u'germain', u'germania', u'getz', u'gg', u'ggbridge', u'ggbridgeapproach', u'giants', u'gibb', u'gilbert', u'gillette', u'gilman', u'gilroy', u'girard', u'gladeview', u'gladstone', u'gladys', u'glenbrook', u'glendale', u'glenview', u'gloria', u'glover', u'godeus', u'goethe', u'goettingen', u'gold', u'golden', u'goldmine', u'goleta', u'gonzalez', u'gordon', u'gorham', u'gough', u'gould', u'grace', u'grafton', u'granada', u'grand', u'grande', u'grandview', u'grant', u'granville', u'grattan', u'graystone', u'great', u'green', u'greenview', u'greenwich', u'greenwood', u'griffith', u'grijalva', u'grove', u'guerrero', u'guttenberg', u'guy', u'hahn', u'haight', u'hale', u'hallam', u'halleck', u'hamerton', u'hamilton', u'hammett', u'hampshire', u'hancock', u'hangah', u'hanover', u'harbor', u'hardie', u'harding', u'hare', u'harkness', u'harlan', u'harlow', u'harney', u'haro', u'harold', u'harper', u'harriet', u'harrington', u'harris', u'harrison', u'harry', u'hartford', u'harvard', u'hastings', u'hattie', u'havelock', u'havens', u'havenside', u'hawes', u'hawkins', u'hawthorne', u'hayes', u'hazelwood', u'head', u'hearst', u'heather', u'heights', u'helen', u'helena', u'hemlock', u'hemway', u'henry', u'henryadams', u'herbst', u'hermann', u'hernandez', u'heron', u'hester', u'heyman', u'hickory', u'hidalgo', u'high', u'highland', u'higuera', u'hiliritas', u'hill', u'hillcrest', u'hillpoint', u'hillview', u'hillway', u'hilton', u'himmelmann', u'hinkley', u'hobart', u'hoff', u'hoffman', u'holladay', u'hollis', u'hollister', u'holloway', u'holly', u'hollypark', u'hollywood', u'holyoke', u'homer', u'homestead', u'homewood', u'honda', u'honor', u'hooper', u'hopkins', u'horace', u'hotaling', u'houston', u'howard', u'howth', u'hubbell', u'hudson', u'hugo', u'humboldt', u'hunters', u'hunterspoint', u'huntersptexpwy', u'huntington', u'huron', u'hwy', u'hy', u'hyde', u'icehouse', u'idora', u'ignacio', u'illinois', u'ils', u'imperial', u'ina', u'inca', u'indiana', u'industrial', u'ingalls', u'ingerson', u'innes', u'interstate280', u'interstate80', u'inverness', u'iowa', u'iris', u'iron', u'ironship', u'irving', u'irwin', u'isadora', u'isis', u'islais', u'islaiscreek', u'island', u'isola', u'italy', u'ivy', u'jacinto', u'jack', u'jackson', u'jade', u'jakey', u'james', u'jameslickfreeway', u'jamestown', u'jansen', u'jarboe', u'jason', u'jasper', u'java', u'jefferson', u'jennings', u'jerrold', u'jersey', u'jessie', u'john', u'johnfkennedy', u'johnfshelley', u'johnmuir', u'johnstone', u'joice', u'jones', u'joost', u'jordan', u'jose', u'josepha', u'josephs', u'josiah', u'joy', u'jr', u'juan', u'juanbautista', u'juanita', u'judah', u'judson', u'jules', u'julia', u'julian', u'julius', u'junior', u'juniper', u'junipero', u'juri', u'justin', u'kansas', u'kaplan', u'karen', u'kate', u'kaufman', u'kearny', u'keith', u'kelloch', u'kelly', u'kempton', u'kennedy', u'kenneth', u'kenny', u'kensington', u'kent', u'kenwood', u'kern', u'key', u'keyes', u'keystone', u'kezar', u'kimball', u'king', u'kingston', u'kinnon', u'kirkham', u'kirkwood', u'kiska', u'kissling', u'kittredge', u'knockashhill', u'knollview', u'knott', u'kramer', u'krausgrill', u'kronquist', u'la', u'laavanzada', u'lafayette', u'lagrande', u'laguna', u'lagunahonda', u'lagunitas', u'laidley', u'lake', u'lakeforest', u'lakes', u'lakeshore', u'lakeview', u'lakewood', u'lamartine', u'lamson', u'landers', u'landsdale', u'lane', u'langton', u'lansing', u'lapham', u'lapidge', u'lapu', u'larch', u'laren', u'larkin', u'las', u'lasalle', u'laskie', u'lasvillas', u'lathrop', u'latona', u'laura', u'laurel', u'laussat', u'lawrence', u'lawton', u'le', u'leaf', u'leandro', u'leavenworth', u'leconte', u'ledyard', u'lee', u'leese', u'legion', u'legionofhonor', u'leidesdorff', u'leland', u'lenox', u'leo', u'leona', u'leroy', u'lessing', u'levant', u'lexington', u'liberty', u'lick', u'liebig', u'lilac', u'lillian', u'lily', u'linares', u'lincoln', u'linda', u'linden', u'lindsay', u'lippard', u'lisbon', u'littlefield', u'lloyd', u'ln', u'lobos', u'locksley', u'locust', u'loehr', u'lomavista', u'lombard', u'lomita', u'london', u'lonemountain', u'long', u'longview', u'loomis', u'lopez', u'loraine', u'lorenzo', u'los', u'lospalmos', u'lottie', u'lottiebennett', u'louisburg', u'lowell', u'lower', u'loyola', u'lucerne', u'lucky', u'lucy', u'lunado', u'lundys', u'lupine', u'lurline', u'lurmont', u'lusk', u'luther', u'lyell', u'lynch', u'lyndhurst', u'lyon', u'mabini', u'mabrey', u'macedonia', u'macondray', u'maddux', u'madera', u'madison', u'madrid', u'madrone', u'magellan', u'magnin', u'magnolia', u'maher', u'maiden', u'main', u'majestic', u'mallorca', u'malta', u'manchester', u'mangels', u'manor', u'mansell', u'mansfield', u'manzanita', u'maple', u'mar', u'marcela', u'marcos', u'marengo', u'margaret', u'margrave', u'marietta', u'marin', u'marina', u'marion', u'mariposa', u'marist', u'mark', u'market', u'marlin', u'marne', u'mars', u'marsily', u'marston', u'martha', u'martin', u'marvel', u'marview', u'mary', u'maryland', u'marys', u'mason', u'masonic', u'massosoit', u'mateo', u'matthew', u'mayfair', u'mayflower', u'maynard', u'maywood', u'mc', u'mcallister', u'mccarthy', u'mccoppin', u'mccormick', u'mckinnon', u'mclaren', u'mclea', u'meacham', u'meade', u'meadowbrook', u'meda', u'medau', u'melba', u'melra', u'melrose', u'mendell', u'mendosa', u'merced', u'mercedes', u'merchant', u'mercury', u'merlin', u'merrie', u'merrill', u'merritt', u'mersey', u'mesa', u'metson', u'michigan', u'midcrest', u'middle', u'middlefield', u'middlepoint', u'midway', u'miguel', u'milan', u'miles', u'miley', u'mill', u'miller', u'milton', u'mine', u'minerva', u'minna', u'minnesota', u'mint', u'mirabel', u'miraloma', u'miramar', u'mirando', u'mission', u'missionrock', u'mississippi', u'missouri', u'mistral', u'mizpah', u'modoc', u'moffitt', u'mojave', u'molimo', u'moncada', u'moneta', u'mono', u'montague', u'montalvo', u'montana', u'montcalm', u'montclair', u'monte', u'montecito', u'monterey', u'montezuma', u'montfort', u'montgomery', u'monticello', u'monument', u'moraga', u'more', u'moreland', u'morningside', u'morrell', u'morris', u'morse', u'moscow', u'moss', u'moulton', u'moultrie', u'mount', u'mountain', u'mountainspring', u'mountview', u'mt', u'muir', u'mullen', u'munich', u'murphy', u'murray', u'museum', u'myra', u'myrtle', u'nadell', u'naglee', u'nahua', u'nantucket', u'napier', u'naples', u'napoleon', u'natick', u'nations', u'natoma', u'nautilus', u'navajo', u'navy', u'naylor', u'nebraska', u'nellie', u'neptune', u'ness', u'nevada', u'new', u'newburg', u'newcomb', u'newell', u'newhall', u'newman', u'newmontgomery', u'newton', u'ney', u'niagara', u'niantic', u'nibbi', u'nichols', u'nido', u'nobhill', u'nobles', u'noe', u'nordhoff', u'norfolk', u'noriega', u'normandie', u'norris', u'north', u'northgate', u'northpoint', u'northridge', u'northview', u'northwood', u'norton', u'norwich', u'nottingham', u'nueva', u'oak', u'oakdale', u'oakpark', u'oaks', u'oakwood', u'ocean', u'octavia', u'of', u'ofarrell', u'ogden', u'oldchinatown', u'olive', u'oliver', u'olmstead', u'olympia', u'omar', u'oneida', u'onique', u'onondaga', u'ophir', u'ora', u'orange', u'orben', u'ord', u'ordway', u'orizaba', u'ortega', u'osage', u'osceola', u'osgood', u'oshaughnessy', u'otega', u'otis', u'otsego', u'ottawa', u'overlook', u'owens', u'oxford', u'pablo', u'pacheco', u'pacific', u'page', u'palace', u'palmetto', u'palmos', u'palms', u'palo', u'paloalto', u'paloma', u'palos', u'palou', u'panama', u'panorama', u'paradise', u'paraiso', u'paramount', u'pardee', u'paris', u'park', u'parker', u'parkhill', u'parkpresidio', u'parkridge', u'parnassus', u'parque', u'parsons', u'pasadena', u'patterson', u'patton', u'paul', u'paula', u'paulding', u'payson', u'peabody', u'peace', u'peaks', u'pearl', u'pemberton', u'peninsula', u'pennsylvania', u'peralta', u'perego', u'perine', u'perry', u'persia', u'peru', u'peter', u'peters', u'peteryorke', u'pfeiffer', u'phelan', u'phelps', u'pico', u'piedmont', u'pierce', u'pine', u'pinehurst', u'pink', u'pinto', u'pioche', u'pixley', u'pl', u'playa', u'plaza', u'pleasant', u'plorth', u'plum', u'plymouth', u'point', u'pointlobos', u'polaris', u'polk', u'pollard', u'pomona', u'pond', u'pope', u'poplar', u'poppy', u'portal', u'porter', u'portola', u'post', u'potomac', u'potrero', u'powell', u'powers', u'powhattan', u'prado', u'prague', u'precita', u'prentiss', u'prescot', u'presidio', u'pretor', u'priest', u'princeton', u'progress', u'prospect', u'prosper', u'pt', u'pueblo', u'putnam', u'pz', u'quane', u'quartz', u'quesada', u'quickstep', u'quincy', u'quint', u'quintara', u'racine', u'racoon', u'radio', u'rae', u'raleigh', u'ralston', u'ramona', u'ramsell', u'rand', u'randall', u'randolph', u'rankin', u'rausch', u'ravenwood', u'rayburn', u'raycliff', u'raymond', u'rd', u'reardon', u'rebecca', u'recycle', u'red', u'reddy', u'redfield', u'redleaf', u'redondo', u'redrock', u'redwood', u'reed', u'regent', u'reno', u'reposa', u'reservoir', u'restani', u'retiro', u'reuel', u'revere', u'rex', u'rexroth', u'rey', u'rhine', u'rhode', u'rhodeisland', u'rice', u'richardhenrydana', u'richards', u'richardson', u'richland', u'rickard', u'rico', u'ridge', u'ridgewood', u'rincon', u'ringold', u'rio', u'rioverde', u'ripley', u'rita', u'ritch', u'rivas', u'rivera', u'riverton', u'rivoli', u'rizal', u'roach', u'roanoke', u'robblee', u'robinhood', u'robinson', u'rock', u'rockaway', u'rockdale', u'rockland', u'rockridge', u'rockwood', u'rodgers', u'roemer', u'rolph', u'romain', u'rome', u'romolo', u'rondel', u'roosevelt', u'rosa', u'roscoe', u'rose', u'rosella', u'roselyn', u'rosemary', u'rosemont', u'rosenkranz', u'rosewood', u'rosie', u'rosielee', u'ross', u'rossi', u'rossmoor', u'rotteck', u'rousseau', u'rowland', u'rudden', u'russ', u'russell', u'russia', u'russian', u'russianhill', u'ruth', u'rutland', u'rutledge', u'rw', u'sabin', u'sacramento', u'saddleback', u'sadowa', u'sagamore', u'saint', u'sala', u'salinas', u'salle', u'salmon', u'samoset', u'san', u'sanaleso', u'sanandreas', u'sananselmo', u'sanantonio', u'sanbenito', u'sanbuenaventura', u'sancarlos', u'sanchez', u'sandiego', u'sanfelipe', u'sanfernando', u'sangabriel', u'sanjacinto', u'sanjuan', u'sanleandro', u'sanlorenzo', u'sanmarcos', u'sanmiguel', u'sanpablo', u'sanrafael', u'sanramon', u'sansome', u'santa', u'santaana', u'santabarbara', u'santaclara', u'santacruz', u'santafe', u'santamarina', u'santamonica', u'santapaula', u'santarita', u'santarosa', u'santaynez', u'santaysabel', u'santiago', u'santos', u'sargent', u'saturn', u'sawyer', u'scenic', u'school', u'schwerin', u'scotia', u'scotland', u'scott', u'sea', u'seacliff', u'seal', u'sealrock', u'sears', u'seaview', u'selby', u'seminole', u'seneca', u'sequoia', u'sereno', u'sergeant', u'serra', u'serrano', u'service', u'severn', u'seville', u'seward', u'seymour', u'sf', u'sgtjohnvyoung', u'shafter', u'shakespeare', u'shannon', u'sharon', u'sharp', u'shaw', u'shawnee', u'sheldon', u'shelley', u'sheridan', u'sherman', u'sherwood', u'shields', u'shipley', u'shore', u'shorepacificocean', u'shores', u'shoresfbay', u'short', u'shotwell', u'shrader', u'sickles', u'side', u'sierra', u'silliman', u'silver', u'silverview', u'skyline', u'skylineblvd', u'skyview', u'sloat', u'sola', u'somerset', u'sonoma', u'sonora', u'sora', u'sotelo', u'soto', u'sou', u'south', u'southard', u'southern', u'southernheights', u'southhill', u'southpark', u'southwood', u'sparrow', u'sparta', u'spear', u'spencer', u'spofford', u'spring', u'springfield', u'sproule', u'spruce', u'square', u'st', u'stanford', u'stanfordheights', u'stanley', u'stanton', u'stanyan', u'staples', u'stark', u'starr', u'starrking', u'starview', u'state', u'states', u'stcharles', u'steiner', u'stelmo', u'sterling', u'stern', u'steuart', u'steveloe', u'stevenson', u'still', u'stillings', u'stillman', u'stjosephs', u'stlouis', u'stockton', u'stone', u'stonecrest', u'stoneman', u'stoneridge', u'stoneybrook', u'stoneyford', u'storrie', u'storth', u'stratford', u'stwy', u'summit', u'sumner', u'sunglow', u'sunnydale', u'sunrise', u'sunset', u'sunview', u'surrey', u'sussex', u'sutro', u'sutroheights', u'sutter', u'sweeny', u'swiss', u'sycamore', u'sydney', u'sylvan', u'taber', u'tacoma', u'talbert', u'tamalpais', u'tandang', u'tandangsora', u'tapia', u'tara', u'taraval', u'taylor', u'teddy', u'tehama', u'telegraph', u'telegraphhill', u'temescal', u'temple', u'tennessee', u'ter', u'teresita', u'terra', u'terrace', u'terravista', u'terry', u'texas', u'the', u'theresa', u'thomas', u'thomasmellon', u'thomasmore', u'thor', u'thornton', u'thorp', u'thrift', u'tiffany', u'tillman', u'tingley', u'tioga', u'tocoloma', u'toklas', u'toland', u'toledo', u'tomaso', u'tompkins', u'topaz', u'topeka', u'torrens', u'townsend', u'toyon', u'tr', u'trader', u'trainor', u'transverse', u'treat', u'tree', u'trenton', u'trinity', u'troy', u'truett', u'trumbull', u'tubbs', u'tucker', u'tulane', u'tunnel', u'turk', u'turner', u'turquoise', u'twin', u'twinpeaks', u'ulloa', u'underwood', u'union', u'united', u'unitednations', u'university', u'upland', u'upper', u'upton', u'uranus', u'urbano', u'us', u'utah', u'valdez', u'vale', u'valencia', u'valerton', u'vallejo', u'valletta', u'valley', u'valmar', u'valparaiso', u'van', u'vanburen', u'vandewater', u'vandyke', u'vanness', u'varela', u'varennes', u'varney', u'vasquez', u'vassar', u'vega', u'velasco', u'venard', u'ventura', u'venus', u'verano', u'verde', u'vermehr', u'vermont', u'verna', u'vernon', u'verona', u'vesta', u'via', u'vic', u'vicente', u'vicksburg', u'victoria', u'vidal', u'vienna', u'view', u'villa', u'village', u'villas', u'vine', u'vinton', u'virgil', u'virginia', u'visitacion', u'vista', u'vistaverde', u'vistaview', u'vulcan', u'wabash', u'waldo', u'walker', u'wall', u'wallace', u'waller', u'walnut', u'walter', u'waltham', u'wanda', u'ward', u'warren', u'washburn', u'washington', u'watchman', u'water', u'waterloo', u'waterville', u'watson', u'watt', u'waverly', u'wawona', u'way', u'wayland', u'wayne', u'webb', u'webster', u'welsh', u'wentworth', u'west', u'westbrook', u'westclay', u'western', u'westernshores', u'westgate', u'westmoorland', u'westpoint', u'westportal', u'westview', u'westwood', u'wetmore', u'wheat', u'wheeler', u'whipple', u'white', u'whitecliff', u'whitfield', u'whiting', u'whitney', u'whitneyyoung', u'whittier', u'wiese', u'wilde', u'wilder', u'wildwood', u'willard', u'willardnorth', u'williams', u'williar', u'willow', u'wills', u'wilmot', u'wilson', u'winding', u'winfield', u'winston', u'winter', u'wisconsin', u'wk', u'wolf', u'wood', u'woodacre', u'woodhaven', u'woodland', u'woodside', u'woodward', u'wool', u'woolsey', u'worcester', u'worden', u'worth', u'wright', u'wy', u'wyton', u'yale', u'yerba', u'yerbabuena', u'ynez', u'yorba', u'york', u'yorke', u'yosemite', u'young', u'ysabel', u'yukon', u'zampa', u'zeno', u'zircon', u'zoe', u'zoo']]\n"
     ]
    }
   ],
   "source": [
    "print len(feature_labels)\n",
    "print feature_labels[0:100]"
   ]
  },
  {
   "cell_type": "code",
   "execution_count": 44,
   "metadata": {
    "collapsed": false
   },
   "outputs": [
    {
     "name": "stdout",
     "output_type": "stream",
     "text": [
      "(878049, 2298)\n",
      "(884262, 2298)\n"
     ]
    }
   ],
   "source": [
    "print X_data.shape\n",
    "print X_test.shape\n"
   ]
  },
  {
   "cell_type": "code",
   "execution_count": 45,
   "metadata": {
    "collapsed": false
   },
   "outputs": [
    {
     "name": "stdout",
     "output_type": "stream",
     "text": [
      "['ARSON', 'ASSAULT', 'BAD CHECKS', 'BRIBERY', 'BURGLARY', 'DISORDERLY CONDUCT', 'DRIVING UNDER THE INFLUENCE', 'DRUG/NARCOTIC', 'DRUNKENNESS', 'EMBEZZLEMENT', 'EXTORTION', 'FAMILY OFFENSES', 'FORGERY/COUNTERFEITING', 'FRAUD', 'GAMBLING', 'KIDNAPPING', 'LARCENY/THEFT', 'LIQUOR LAWS', 'LOITERING', 'MISSING PERSON', 'NON-CRIMINAL', 'OTHER OFFENSES', 'PORNOGRAPHY/OBSCENE MAT', 'PROSTITUTION', 'RECOVERED VEHICLE', 'ROBBERY', 'RUNAWAY', 'SECONDARY CODES', 'SEX OFFENSES FORCIBLE', 'SEX OFFENSES NON FORCIBLE', 'STOLEN PROPERTY', 'SUICIDE', 'SUSPICIOUS OCC', 'TREA', 'TRESPASS', 'VANDALISM', 'VEHICLE THEFT', 'WARRANTS', 'WEAPON LAWS']\n",
      "39\n",
      "40\n"
     ]
    }
   ],
   "source": [
    "### This function extracts the data labels from the train data\n",
    "def labels(data):\n",
    "    \n",
    "    labels = []\n",
    "\n",
    "    for i in range(1,len(data)):\n",
    "        temp_data = []\n",
    "        temp_data = data[i]\n",
    "        labels.append(temp_data[1])\n",
    "\n",
    "    return labels\n",
    "\n",
    "labels = labels(train)\n",
    "\n",
    "classifications = sorted(set(labels))\n",
    "print classifications\n",
    "print len(classifications)\n",
    "print len(sampleSubmission[0])\n"
   ]
  },
  {
   "cell_type": "code",
   "execution_count": 46,
   "metadata": {
    "collapsed": false
   },
   "outputs": [
    {
     "name": "stdout",
     "output_type": "stream",
     "text": [
      "(878049,)\n",
      "WARRANTS\n",
      "37.0\n"
     ]
    }
   ],
   "source": [
    "Y_labels = np.zeros((len(labels),))\n",
    "print Y_labels.shape\n",
    "for i in range (Y_labels.shape[0]):\n",
    "    for j in range (len(classifications)):\n",
    "        if labels[i] == classifications[j]:\n",
    "                     Y_labels[i] = j\n",
    "print labels[0]\n",
    "print Y_labels[0]"
   ]
  },
  {
   "cell_type": "code",
   "execution_count": 49,
   "metadata": {
    "collapsed": false
   },
   "outputs": [],
   "source": [
    "# Shuffle the data, but make sure that the features and accompanying labels stay in sync.\n",
    "np.random.seed(0)\n",
    "shuffle = np.random.permutation(np.arange(X_data.shape[0]))\n",
    "X_data, Y_labels = X_data[shuffle], Y_labels[shuffle]\n",
    "\n"
   ]
  },
  {
   "cell_type": "code",
   "execution_count": 65,
   "metadata": {
    "collapsed": false
   },
   "outputs": [
    {
     "name": "stdout",
     "output_type": "stream",
     "text": [
      "(50000, 2298)\n",
      "(50000,)\n"
     ]
    }
   ],
   "source": [
    "# Split into train and dev.\n",
    "train_data, train_labels = X_data[:700000], Y_labels[:700000]\n",
    "dev_data, dev_labels = X_data[700000:], Y_labels[700000:]\n",
    "mini_train_data, mini_train_labels = train_data[:50000], train_labels[:50000]\n",
    "mini_dev_data, mini_dev_labels = dev_data[:1000], dev_labels[:1000]\n",
    "print mini_train_data.shape\n",
    "print mini_train_labels.shape"
   ]
  },
  {
   "cell_type": "code",
   "execution_count": 54,
   "metadata": {
    "collapsed": false
   },
   "outputs": [
    {
     "name": "stdout",
     "output_type": "stream",
     "text": [
      "(1000, 2298)\n",
      "(1000,)\n"
     ]
    }
   ],
   "source": [
    "print mini_dev_data.shape\n",
    "print mini_dev_labels.shape"
   ]
  },
  {
   "cell_type": "code",
   "execution_count": 70,
   "metadata": {
    "collapsed": false
   },
   "outputs": [],
   "source": [
    "### K-NearestNeighbour Classifier \n",
    "knn = KNeighborsClassifier(n_neighbors=3)\n",
    "knn.fit(mini_train_data,mini_train_labels)\n",
    "y_pred = knn.predict(mini_dev_data)"
   ]
  },
  {
   "cell_type": "code",
   "execution_count": 71,
   "metadata": {
    "collapsed": false
   },
   "outputs": [
    {
     "name": "stdout",
     "output_type": "stream",
     "text": [
      "             precision    recall  f1-score   support\n",
      "\n",
      "        0.0       0.00      0.00      0.00         0\n",
      "        1.0       0.08      0.18      0.11        89\n",
      "        2.0       0.00      0.00      0.00         1\n",
      "        4.0       0.10      0.26      0.15        43\n",
      "        5.0       0.00      0.00      0.00         7\n",
      "        6.0       0.00      0.00      0.00         5\n",
      "        7.0       0.22      0.33      0.27        70\n",
      "        8.0       0.00      0.00      0.00         1\n",
      "        9.0       0.00      0.00      0.00         1\n",
      "       11.0       0.00      0.00      0.00         0\n",
      "       12.0       0.07      0.05      0.06        19\n",
      "       13.0       0.00      0.00      0.00        13\n",
      "       15.0       0.00      0.00      0.00         1\n",
      "       16.0       0.26      0.43      0.33       178\n",
      "       17.0       0.00      0.00      0.00         1\n",
      "       18.0       0.00      0.00      0.00         2\n",
      "       19.0       0.14      0.16      0.15        31\n",
      "       20.0       0.15      0.07      0.10       109\n",
      "       21.0       0.18      0.09      0.12       138\n",
      "       23.0       0.33      0.20      0.25        10\n",
      "       24.0       0.00      0.00      0.00         4\n",
      "       25.0       0.00      0.00      0.00        36\n",
      "       26.0       0.00      0.00      0.00         2\n",
      "       27.0       0.00      0.00      0.00         5\n",
      "       28.0       0.00      0.00      0.00         7\n",
      "       30.0       0.00      0.00      0.00         8\n",
      "       32.0       0.00      0.00      0.00        35\n",
      "       34.0       0.00      0.00      0.00        11\n",
      "       35.0       0.12      0.02      0.03        50\n",
      "       36.0       0.15      0.04      0.07        69\n",
      "       37.0       0.38      0.07      0.12        43\n",
      "       38.0       0.00      0.00      0.00        11\n",
      "\n",
      "avg / total       0.16      0.16      0.14      1000\n",
      "\n"
     ]
    }
   ],
   "source": [
    "print classification_report(mini_dev_labels, y_pred )"
   ]
  },
  {
   "cell_type": "code",
   "execution_count": 72,
   "metadata": {
    "collapsed": true
   },
   "outputs": [],
   "source": [
    "### Multinomial Classifier\n",
    "mn = MultinomialNB(alpha=0.5)\n",
    "mn.fit(mini_train_data, mini_train_labels)\n",
    "y_pred = mn.predict(mini_dev_data)"
   ]
  },
  {
   "cell_type": "code",
   "execution_count": 73,
   "metadata": {
    "collapsed": false
   },
   "outputs": [
    {
     "name": "stdout",
     "output_type": "stream",
     "text": [
      "             precision    recall  f1-score   support\n",
      "\n",
      "        1.0       0.20      0.16      0.17        89\n",
      "        2.0       0.00      0.00      0.00         1\n",
      "        4.0       0.06      0.02      0.03        43\n",
      "        5.0       0.00      0.00      0.00         7\n",
      "        6.0       0.00      0.00      0.00         5\n",
      "        7.0       0.34      0.47      0.39        70\n",
      "        8.0       0.00      0.00      0.00         1\n",
      "        9.0       0.00      0.00      0.00         1\n",
      "       12.0       0.00      0.00      0.00        19\n",
      "       13.0       0.00      0.00      0.00        13\n",
      "       15.0       0.00      0.00      0.00         1\n",
      "       16.0       0.28      0.65      0.39       178\n",
      "       17.0       0.00      0.00      0.00         1\n",
      "       18.0       0.00      0.00      0.00         2\n",
      "       19.0       0.25      0.26      0.25        31\n",
      "       20.0       0.17      0.11      0.13       109\n",
      "       21.0       0.31      0.36      0.34       138\n",
      "       23.0       0.29      0.60      0.39        10\n",
      "       24.0       0.00      0.00      0.00         4\n",
      "       25.0       0.00      0.00      0.00        36\n",
      "       26.0       0.00      0.00      0.00         2\n",
      "       27.0       0.00      0.00      0.00         5\n",
      "       28.0       0.00      0.00      0.00         7\n",
      "       30.0       0.00      0.00      0.00         8\n",
      "       32.0       0.25      0.03      0.05        35\n",
      "       34.0       0.00      0.00      0.00        11\n",
      "       35.0       0.06      0.02      0.03        50\n",
      "       36.0       0.21      0.19      0.20        69\n",
      "       37.0       0.07      0.02      0.04        43\n",
      "       38.0       0.50      0.09      0.15        11\n",
      "\n",
      "avg / total       0.20      0.26      0.21      1000\n",
      "\n"
     ]
    }
   ],
   "source": [
    "print classification_report(mini_dev_labels, y_pred )"
   ]
  },
  {
   "cell_type": "code",
   "execution_count": 76,
   "metadata": {
    "collapsed": true
   },
   "outputs": [],
   "source": [
    "### Logistic Regression\n",
    "lr = LogisticRegression(C=0.5)\n",
    "lr.fit(mini_train_data,mini_train_labels)\n",
    "y_pred = lr.predict(mini_dev_data)"
   ]
  },
  {
   "cell_type": "code",
   "execution_count": 75,
   "metadata": {
    "collapsed": false
   },
   "outputs": [
    {
     "name": "stdout",
     "output_type": "stream",
     "text": [
      "             precision    recall  f1-score   support\n",
      "\n",
      "        1.0       0.16      0.13      0.15        89\n",
      "        2.0       0.00      0.00      0.00         1\n",
      "        4.0       0.09      0.02      0.04        43\n",
      "        5.0       0.00      0.00      0.00         7\n",
      "        6.0       0.00      0.00      0.00         5\n",
      "        7.0       0.35      0.30      0.32        70\n",
      "        8.0       0.00      0.00      0.00         1\n",
      "        9.0       0.00      0.00      0.00         1\n",
      "       12.0       0.00      0.00      0.00        19\n",
      "       13.0       0.00      0.00      0.00        13\n",
      "       15.0       0.00      0.00      0.00         1\n",
      "       16.0       0.26      0.72      0.39       178\n",
      "       17.0       0.00      0.00      0.00         1\n",
      "       18.0       0.00      0.00      0.00         2\n",
      "       19.0       0.40      0.19      0.26        31\n",
      "       20.0       0.16      0.06      0.09       109\n",
      "       21.0       0.28      0.46      0.35       138\n",
      "       23.0       0.38      0.50      0.43        10\n",
      "       24.0       0.00      0.00      0.00         4\n",
      "       25.0       1.00      0.03      0.05        36\n",
      "       26.0       1.00      0.50      0.67         2\n",
      "       27.0       0.00      0.00      0.00         5\n",
      "       28.0       0.00      0.00      0.00         7\n",
      "       30.0       0.00      0.00      0.00         8\n",
      "       32.0       0.00      0.00      0.00        35\n",
      "       34.0       1.00      0.09      0.17        11\n",
      "       35.0       0.00      0.00      0.00        50\n",
      "       36.0       0.21      0.16      0.18        69\n",
      "       37.0       0.00      0.00      0.00        43\n",
      "       38.0       0.00      0.00      0.00        11\n",
      "\n",
      "avg / total       0.23      0.26      0.19      1000\n",
      "\n"
     ]
    }
   ],
   "source": [
    "print classification_report(mini_dev_labels, y_pred )"
   ]
  },
  {
   "cell_type": "code",
   "execution_count": 77,
   "metadata": {
    "collapsed": false
   },
   "outputs": [
    {
     "name": "stdout",
     "output_type": "stream",
     "text": [
      "(884262, 2298)\n"
     ]
    }
   ],
   "source": [
    "print X_test.shape"
   ]
  },
  {
   "cell_type": "code",
   "execution_count": 78,
   "metadata": {
    "collapsed": true
   },
   "outputs": [],
   "source": [
    "### Prediction for test data\n",
    "y_pred = mn.predict(X_test)"
   ]
  },
  {
   "cell_type": "code",
   "execution_count": 79,
   "metadata": {
    "collapsed": false
   },
   "outputs": [
    {
     "name": "stdout",
     "output_type": "stream",
     "text": [
      "884262\n",
      "0\n"
     ]
    }
   ],
   "source": [
    "### This function extracts the id from the test data file\n",
    "def testid(data):\n",
    "    \n",
    "    testid = []\n",
    "\n",
    "    for i in range(1,len(data)):\n",
    "        temp_data = []\n",
    "        temp_data = data[i]\n",
    "        testid.append(temp_data[0])\n",
    "\n",
    "    return testid\n",
    "\n",
    "testid = testid(test)\n",
    "print len(testid)\n",
    "print testid[0]\n"
   ]
  },
  {
   "cell_type": "code",
   "execution_count": 110,
   "metadata": {
    "collapsed": false
   },
   "outputs": [
    {
     "name": "stdout",
     "output_type": "stream",
     "text": [
      "(884262, 39)\n",
      "[ 0.  0.  0.  0.  0.  0.  0.  0.  0.  0.  0.  0.  0.  0.  0.  0.  0.  0.\n",
      "  0.  0.  0.  1.  0.  0.  0.  0.  0.  0.  0.  0.  0.  0.  0.  0.  0.  0.\n",
      "  0.  0.  0.]\n"
     ]
    }
   ],
   "source": [
    "submitfile = np.zeros((len(y_pred), len(classifications)))\n",
    "for i in range (len(y_pred)):\n",
    "    for j in range (len(classifications)):\n",
    "        if classifications[int(y_pred[i])]==classifications[j]:\n",
    "            submitfile[i,j]=1\n",
    "        else:\n",
    "            submitfile[i,j]=0\n",
    "        \n",
    "print submitfile.shape\n",
    "print submitfile[1]"
   ]
  },
  {
   "cell_type": "code",
   "execution_count": 112,
   "metadata": {
    "collapsed": true
   },
   "outputs": [],
   "source": [
    "test_lab_f = open(\"submission.csv\", \"w\") # writing final results on a csv file\n",
    "\n",
    "test_lab_f.write(sampleSubmission[0][0])\n",
    "for j in range(len(classifications)):\n",
    "    test_lab_f.write( \",\" + str(sampleSubmission[0][j+1]))\n",
    "\n",
    "idx = 0\n",
    "                 \n",
    "for i in range(len(y_pred)):\n",
    "    \n",
    "    test_lab_f.write(\"\\n\")\n",
    "    test_lab_f.write(str(idx))\n",
    "    for j in range(len(classifications)):\n",
    "        test_lab_f.write( \",\" + str(int(submitfile[i,j])))\n",
    "    idx += 1\n",
    "   \n",
    "\n",
    "test_lab_f.close()"
   ]
  },
  {
   "cell_type": "code",
   "execution_count": null,
   "metadata": {
    "collapsed": true
   },
   "outputs": [],
   "source": []
  }
 ],
 "metadata": {
  "kernelspec": {
   "display_name": "Python 2",
   "language": "python",
   "name": "python2"
  },
  "language_info": {
   "codemirror_mode": {
    "name": "ipython",
    "version": 2
   },
   "file_extension": ".py",
   "mimetype": "text/x-python",
   "name": "python",
   "nbconvert_exporter": "python",
   "pygments_lexer": "ipython2",
   "version": "2.7.10"
  }
 },
 "nbformat": 4,
 "nbformat_minor": 0
}
